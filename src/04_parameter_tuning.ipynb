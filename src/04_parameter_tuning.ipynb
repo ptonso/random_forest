{
 "cells": [
  {
   "cell_type": "markdown",
   "metadata": {},
   "source": [
    "# Estimating accuracy and Hyperparameter tuning\n",
    "\n",
    "Nested cross-validation\n",
    "\n",
    "\n",
    "receive featured dataset\n",
    "\n",
    "train random forest multiple times\n",
    "\n",
    "return optimal gamma parameter and accuracy test"
   ]
  },
  {
   "cell_type": "code",
   "execution_count": 7,
   "metadata": {},
   "outputs": [],
   "source": [
    "\n",
    "import numpy as np\n",
    "import pandas as pd\n",
    "\n",
    "from pkg import utils\n",
    "from pkg import feature\n",
    "# from pkg import tuning\n",
    "\n",
    "from sklearn.ensemble import RandomForestClassifier\n",
    "from sklearn.metrics import accuracy_score\n",
    "from sklearn.model_selection import RandomizedSearchCV, train_test_split\n",
    "from scipy.stats import randint"
   ]
  },
  {
   "cell_type": "code",
   "execution_count": 8,
   "metadata": {},
   "outputs": [],
   "source": [
    "parents = 'data'\n",
    "filename = 'featured.csv'\n",
    "\n",
    "path = utils.get_path(parents, filename)\n",
    "feat_df = pd.read_csv(path, index_col=0)"
   ]
  },
  {
   "cell_type": "code",
   "execution_count": 9,
   "metadata": {},
   "outputs": [],
   "source": [
    "y = feat_df.iloc[:,0]\n",
    "X = feat_df.iloc[:,1:]"
   ]
  },
  {
   "cell_type": "code",
   "execution_count": 10,
   "metadata": {},
   "outputs": [],
   "source": [
    "# Configurations\n",
    "\n",
    "seed = 123\n",
    "test_size = 0.2\n",
    "max_depth = 50"
   ]
  },
  {
   "cell_type": "code",
   "execution_count": 11,
   "metadata": {},
   "outputs": [
    {
     "name": "stdout",
     "output_type": "stream",
     "text": [
      "Best hyperparameters: {'criterion': 'gini', 'max_depth': 14, 'random_state': 123}\n",
      "Accuracy:  0.7778\n"
     ]
    }
   ],
   "source": [
    "# Hyperparameter Tuning\n",
    "\n",
    "X_train, X_test, y_train, y_test = train_test_split(X, y, test_size=test_size, random_state=seed)\n",
    "\n",
    "param_dist = {'random_state': [seed], 'criterion':[\"gini\"], 'max_depth':randint(1,max_depth)}\n",
    "\n",
    "rf = RandomForestClassifier()\n",
    "\n",
    "rand_search = RandomizedSearchCV(rf, param_distributions=param_dist)\n",
    "\n",
    "rand_search.fit(X_train, y_train)\n",
    "\n",
    "# Evaluating\n",
    "\n",
    "best_rf = rand_search.best_estimator_\n",
    "print('Best hyperparameters:', rand_search.best_params_)\n",
    "\n",
    "\n",
    "y_hat = best_rf.predict(X_test)\n",
    "accuracy = accuracy_score(y_test, y_hat)\n",
    "print(\"Accuracy: \", round(accuracy, 4))"
   ]
  },
  {
   "cell_type": "code",
   "execution_count": null,
   "metadata": {},
   "outputs": [],
   "source": []
  }
 ],
 "metadata": {
  "kernelspec": {
   "display_name": "base",
   "language": "python",
   "name": "python3"
  },
  "language_info": {
   "codemirror_mode": {
    "name": "ipython",
    "version": 3
   },
   "file_extension": ".py",
   "mimetype": "text/x-python",
   "name": "python",
   "nbconvert_exporter": "python",
   "pygments_lexer": "ipython3",
   "version": "3.11.4"
  },
  "orig_nbformat": 4
 },
 "nbformat": 4,
 "nbformat_minor": 2
}
