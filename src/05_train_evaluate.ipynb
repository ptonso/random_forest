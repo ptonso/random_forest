{
 "cells": [
  {
   "cell_type": "markdown",
   "metadata": {},
   "source": [
    "# Trainning, hypertunning and evaluating models\n",
    "\n",
    "**Import** data from \"data/featured.csv\"\n",
    "\n",
    "**Export** model to \"model/v01\""
   ]
  },
  {
   "cell_type": "code",
   "execution_count": 17,
   "metadata": {},
   "outputs": [
    {
     "name": "stderr",
     "output_type": "stream",
     "text": [
      "Using `tqdm.autonotebook.tqdm` in notebook mode. Use `tqdm.tqdm` instead to force console mode (e.g. in jupyter console)\n"
     ]
    }
   ],
   "source": [
    "# Setup\n",
    "\n",
    "import pandas as pd\n",
    "import numpy as np\n",
    "\n",
    "# Modeling\n",
    "from sklearn.ensemble import RandomForestClassifier\n",
    "from sklearn.metrics import accuracy_score\n",
    "from sklearn.model_selection import train_test_split\n",
    "\n",
    "import shap\n",
    "\n",
    "from pkg import utils\n",
    "from pkg import feature"
   ]
  },
  {
   "cell_type": "code",
   "execution_count": 9,
   "metadata": {},
   "outputs": [
    {
     "data": {
      "text/html": [
       "<div>\n",
       "<style scoped>\n",
       "    .dataframe tbody tr th:only-of-type {\n",
       "        vertical-align: middle;\n",
       "    }\n",
       "\n",
       "    .dataframe tbody tr th {\n",
       "        vertical-align: top;\n",
       "    }\n",
       "\n",
       "    .dataframe thead th {\n",
       "        text-align: right;\n",
       "    }\n",
       "</style>\n",
       "<table border=\"1\" class=\"dataframe\">\n",
       "  <thead>\n",
       "    <tr style=\"text-align: right;\">\n",
       "      <th></th>\n",
       "      <th>bayley_3_t1</th>\n",
       "      <th>dominance_simpson</th>\n",
       "      <th>12DICHLORETHDEG-PWY</th>\n",
       "      <th>AEROBACTINSYN-PWY</th>\n",
       "      <th>ALLANTOINDEG-PWY</th>\n",
       "      <th>CRNFORCAT-PWY</th>\n",
       "      <th>DENITRIFICATION-PWY</th>\n",
       "      <th>DHGLUCONATE-PYR-CAT-PWY</th>\n",
       "      <th>DTDPRHAMSYN-PWY</th>\n",
       "      <th>METH-ACETATE-PWY</th>\n",
       "      <th>...</th>\n",
       "      <th>RH_temporal_theta_t1</th>\n",
       "      <th>Occipital_low_alpha_t1</th>\n",
       "      <th>RH_lateral_frontal_high_alpha_t1</th>\n",
       "      <th>LH_lateral_frontal_beta_t1</th>\n",
       "      <th>LH_parietal_beta_t1</th>\n",
       "      <th>RH_temporal_beta_t1</th>\n",
       "      <th>LH_temporal_beta_t1</th>\n",
       "      <th>b04_t1</th>\n",
       "      <th>renda_familiar_total_t0</th>\n",
       "      <th>a08_t1</th>\n",
       "    </tr>\n",
       "    <tr>\n",
       "      <th>id_estudo</th>\n",
       "      <th></th>\n",
       "      <th></th>\n",
       "      <th></th>\n",
       "      <th></th>\n",
       "      <th></th>\n",
       "      <th></th>\n",
       "      <th></th>\n",
       "      <th></th>\n",
       "      <th></th>\n",
       "      <th></th>\n",
       "      <th></th>\n",
       "      <th></th>\n",
       "      <th></th>\n",
       "      <th></th>\n",
       "      <th></th>\n",
       "      <th></th>\n",
       "      <th></th>\n",
       "      <th></th>\n",
       "      <th></th>\n",
       "      <th></th>\n",
       "      <th></th>\n",
       "    </tr>\n",
       "  </thead>\n",
       "  <tbody>\n",
       "    <tr>\n",
       "      <th>7</th>\n",
       "      <td>1</td>\n",
       "      <td>0.136112</td>\n",
       "      <td>0.0</td>\n",
       "      <td>0.000000</td>\n",
       "      <td>7.676483</td>\n",
       "      <td>0.0</td>\n",
       "      <td>0.000000</td>\n",
       "      <td>0.0</td>\n",
       "      <td>4395.178167</td>\n",
       "      <td>0.0</td>\n",
       "      <td>...</td>\n",
       "      <td>11.066145</td>\n",
       "      <td>6.399995</td>\n",
       "      <td>1.984560</td>\n",
       "      <td>1.480601</td>\n",
       "      <td>1.164159</td>\n",
       "      <td>2.233020</td>\n",
       "      <td>1.577486</td>\n",
       "      <td>1.0</td>\n",
       "      <td>8.517593</td>\n",
       "      <td>1.0</td>\n",
       "    </tr>\n",
       "    <tr>\n",
       "      <th>8</th>\n",
       "      <td>1</td>\n",
       "      <td>0.451324</td>\n",
       "      <td>0.0</td>\n",
       "      <td>0.000000</td>\n",
       "      <td>14.984719</td>\n",
       "      <td>0.0</td>\n",
       "      <td>320.494755</td>\n",
       "      <td>0.0</td>\n",
       "      <td>4478.753445</td>\n",
       "      <td>0.0</td>\n",
       "      <td>...</td>\n",
       "      <td>7.316511</td>\n",
       "      <td>7.473895</td>\n",
       "      <td>1.252036</td>\n",
       "      <td>1.073858</td>\n",
       "      <td>0.973935</td>\n",
       "      <td>0.806549</td>\n",
       "      <td>1.251462</td>\n",
       "      <td>1.0</td>\n",
       "      <td>10.404323</td>\n",
       "      <td>1.0</td>\n",
       "    </tr>\n",
       "    <tr>\n",
       "      <th>14</th>\n",
       "      <td>1</td>\n",
       "      <td>0.281675</td>\n",
       "      <td>0.0</td>\n",
       "      <td>209.593817</td>\n",
       "      <td>0.000000</td>\n",
       "      <td>0.0</td>\n",
       "      <td>0.000000</td>\n",
       "      <td>0.0</td>\n",
       "      <td>2755.525229</td>\n",
       "      <td>0.0</td>\n",
       "      <td>...</td>\n",
       "      <td>10.349887</td>\n",
       "      <td>10.194401</td>\n",
       "      <td>2.383895</td>\n",
       "      <td>1.754353</td>\n",
       "      <td>1.708441</td>\n",
       "      <td>1.437741</td>\n",
       "      <td>2.593411</td>\n",
       "      <td>1.0</td>\n",
       "      <td>9.588914</td>\n",
       "      <td>1.0</td>\n",
       "    </tr>\n",
       "    <tr>\n",
       "      <th>24</th>\n",
       "      <td>0</td>\n",
       "      <td>0.945041</td>\n",
       "      <td>0.0</td>\n",
       "      <td>0.000000</td>\n",
       "      <td>0.000000</td>\n",
       "      <td>0.0</td>\n",
       "      <td>26.374059</td>\n",
       "      <td>0.0</td>\n",
       "      <td>2725.705501</td>\n",
       "      <td>0.0</td>\n",
       "      <td>...</td>\n",
       "      <td>11.525351</td>\n",
       "      <td>7.343360</td>\n",
       "      <td>2.418379</td>\n",
       "      <td>3.367270</td>\n",
       "      <td>2.326717</td>\n",
       "      <td>3.000494</td>\n",
       "      <td>4.347992</td>\n",
       "      <td>2.0</td>\n",
       "      <td>7.601402</td>\n",
       "      <td>2.0</td>\n",
       "    </tr>\n",
       "    <tr>\n",
       "      <th>26</th>\n",
       "      <td>0</td>\n",
       "      <td>0.338783</td>\n",
       "      <td>0.0</td>\n",
       "      <td>0.000000</td>\n",
       "      <td>0.000000</td>\n",
       "      <td>0.0</td>\n",
       "      <td>0.000000</td>\n",
       "      <td>0.0</td>\n",
       "      <td>725.879153</td>\n",
       "      <td>0.0</td>\n",
       "      <td>...</td>\n",
       "      <td>10.511222</td>\n",
       "      <td>6.003053</td>\n",
       "      <td>1.277228</td>\n",
       "      <td>1.866852</td>\n",
       "      <td>1.555874</td>\n",
       "      <td>2.296068</td>\n",
       "      <td>1.590318</td>\n",
       "      <td>2.0</td>\n",
       "      <td>7.147559</td>\n",
       "      <td>2.0</td>\n",
       "    </tr>\n",
       "  </tbody>\n",
       "</table>\n",
       "<p>5 rows × 132 columns</p>\n",
       "</div>"
      ],
      "text/plain": [
       "           bayley_3_t1  dominance_simpson  12DICHLORETHDEG-PWY  \\\n",
       "id_estudo                                                        \n",
       "7                    1           0.136112                  0.0   \n",
       "8                    1           0.451324                  0.0   \n",
       "14                   1           0.281675                  0.0   \n",
       "24                   0           0.945041                  0.0   \n",
       "26                   0           0.338783                  0.0   \n",
       "\n",
       "           AEROBACTINSYN-PWY  ALLANTOINDEG-PWY  CRNFORCAT-PWY  \\\n",
       "id_estudo                                                       \n",
       "7                   0.000000          7.676483            0.0   \n",
       "8                   0.000000         14.984719            0.0   \n",
       "14                209.593817          0.000000            0.0   \n",
       "24                  0.000000          0.000000            0.0   \n",
       "26                  0.000000          0.000000            0.0   \n",
       "\n",
       "           DENITRIFICATION-PWY  DHGLUCONATE-PYR-CAT-PWY  DTDPRHAMSYN-PWY  \\\n",
       "id_estudo                                                                  \n",
       "7                     0.000000                      0.0      4395.178167   \n",
       "8                   320.494755                      0.0      4478.753445   \n",
       "14                    0.000000                      0.0      2755.525229   \n",
       "24                   26.374059                      0.0      2725.705501   \n",
       "26                    0.000000                      0.0       725.879153   \n",
       "\n",
       "           METH-ACETATE-PWY  ...  RH_temporal_theta_t1  \\\n",
       "id_estudo                    ...                         \n",
       "7                       0.0  ...             11.066145   \n",
       "8                       0.0  ...              7.316511   \n",
       "14                      0.0  ...             10.349887   \n",
       "24                      0.0  ...             11.525351   \n",
       "26                      0.0  ...             10.511222   \n",
       "\n",
       "           Occipital_low_alpha_t1  RH_lateral_frontal_high_alpha_t1  \\\n",
       "id_estudo                                                             \n",
       "7                        6.399995                          1.984560   \n",
       "8                        7.473895                          1.252036   \n",
       "14                      10.194401                          2.383895   \n",
       "24                       7.343360                          2.418379   \n",
       "26                       6.003053                          1.277228   \n",
       "\n",
       "           LH_lateral_frontal_beta_t1  LH_parietal_beta_t1  \\\n",
       "id_estudo                                                    \n",
       "7                            1.480601             1.164159   \n",
       "8                            1.073858             0.973935   \n",
       "14                           1.754353             1.708441   \n",
       "24                           3.367270             2.326717   \n",
       "26                           1.866852             1.555874   \n",
       "\n",
       "           RH_temporal_beta_t1  LH_temporal_beta_t1  b04_t1  \\\n",
       "id_estudo                                                     \n",
       "7                     2.233020             1.577486     1.0   \n",
       "8                     0.806549             1.251462     1.0   \n",
       "14                    1.437741             2.593411     1.0   \n",
       "24                    3.000494             4.347992     2.0   \n",
       "26                    2.296068             1.590318     2.0   \n",
       "\n",
       "           renda_familiar_total_t0  a08_t1  \n",
       "id_estudo                                   \n",
       "7                         8.517593     1.0  \n",
       "8                        10.404323     1.0  \n",
       "14                        9.588914     1.0  \n",
       "24                        7.601402     2.0  \n",
       "26                        7.147559     2.0  \n",
       "\n",
       "[5 rows x 132 columns]"
      ]
     },
     "execution_count": 9,
     "metadata": {},
     "output_type": "execute_result"
    }
   ],
   "source": [
    "# Importing data\n",
    "\n",
    "parent = 'data'\n",
    "filename = 'featured.csv'\n",
    "\n",
    "path = utils.get_path(parent, filename)\n",
    "\n",
    "df = pd.read_csv(path, index_col=0)\n",
    "df.head()"
   ]
  },
  {
   "cell_type": "code",
   "execution_count": 10,
   "metadata": {},
   "outputs": [],
   "source": [
    "# Parameters\n",
    "\n",
    "seed = 123"
   ]
  },
  {
   "cell_type": "code",
   "execution_count": 11,
   "metadata": {},
   "outputs": [],
   "source": [
    "y = df.iloc[:,0]\n",
    "X = df.iloc[:,1:]"
   ]
  },
  {
   "cell_type": "code",
   "execution_count": 12,
   "metadata": {},
   "outputs": [],
   "source": [
    "X_train, X_test, y_train, y_test = train_test_split(X, y, test_size=0.2, random_state=seed)"
   ]
  },
  {
   "cell_type": "code",
   "execution_count": 13,
   "metadata": {},
   "outputs": [
    {
     "data": {
      "text/html": [
       "<style>#sk-container-id-2 {color: black;}#sk-container-id-2 pre{padding: 0;}#sk-container-id-2 div.sk-toggleable {background-color: white;}#sk-container-id-2 label.sk-toggleable__label {cursor: pointer;display: block;width: 100%;margin-bottom: 0;padding: 0.3em;box-sizing: border-box;text-align: center;}#sk-container-id-2 label.sk-toggleable__label-arrow:before {content: \"▸\";float: left;margin-right: 0.25em;color: #696969;}#sk-container-id-2 label.sk-toggleable__label-arrow:hover:before {color: black;}#sk-container-id-2 div.sk-estimator:hover label.sk-toggleable__label-arrow:before {color: black;}#sk-container-id-2 div.sk-toggleable__content {max-height: 0;max-width: 0;overflow: hidden;text-align: left;background-color: #f0f8ff;}#sk-container-id-2 div.sk-toggleable__content pre {margin: 0.2em;color: black;border-radius: 0.25em;background-color: #f0f8ff;}#sk-container-id-2 input.sk-toggleable__control:checked~div.sk-toggleable__content {max-height: 200px;max-width: 100%;overflow: auto;}#sk-container-id-2 input.sk-toggleable__control:checked~label.sk-toggleable__label-arrow:before {content: \"▾\";}#sk-container-id-2 div.sk-estimator input.sk-toggleable__control:checked~label.sk-toggleable__label {background-color: #d4ebff;}#sk-container-id-2 div.sk-label input.sk-toggleable__control:checked~label.sk-toggleable__label {background-color: #d4ebff;}#sk-container-id-2 input.sk-hidden--visually {border: 0;clip: rect(1px 1px 1px 1px);clip: rect(1px, 1px, 1px, 1px);height: 1px;margin: -1px;overflow: hidden;padding: 0;position: absolute;width: 1px;}#sk-container-id-2 div.sk-estimator {font-family: monospace;background-color: #f0f8ff;border: 1px dotted black;border-radius: 0.25em;box-sizing: border-box;margin-bottom: 0.5em;}#sk-container-id-2 div.sk-estimator:hover {background-color: #d4ebff;}#sk-container-id-2 div.sk-parallel-item::after {content: \"\";width: 100%;border-bottom: 1px solid gray;flex-grow: 1;}#sk-container-id-2 div.sk-label:hover label.sk-toggleable__label {background-color: #d4ebff;}#sk-container-id-2 div.sk-serial::before {content: \"\";position: absolute;border-left: 1px solid gray;box-sizing: border-box;top: 0;bottom: 0;left: 50%;z-index: 0;}#sk-container-id-2 div.sk-serial {display: flex;flex-direction: column;align-items: center;background-color: white;padding-right: 0.2em;padding-left: 0.2em;position: relative;}#sk-container-id-2 div.sk-item {position: relative;z-index: 1;}#sk-container-id-2 div.sk-parallel {display: flex;align-items: stretch;justify-content: center;background-color: white;position: relative;}#sk-container-id-2 div.sk-item::before, #sk-container-id-2 div.sk-parallel-item::before {content: \"\";position: absolute;border-left: 1px solid gray;box-sizing: border-box;top: 0;bottom: 0;left: 50%;z-index: -1;}#sk-container-id-2 div.sk-parallel-item {display: flex;flex-direction: column;z-index: 1;position: relative;background-color: white;}#sk-container-id-2 div.sk-parallel-item:first-child::after {align-self: flex-end;width: 50%;}#sk-container-id-2 div.sk-parallel-item:last-child::after {align-self: flex-start;width: 50%;}#sk-container-id-2 div.sk-parallel-item:only-child::after {width: 0;}#sk-container-id-2 div.sk-dashed-wrapped {border: 1px dashed gray;margin: 0 0.4em 0.5em 0.4em;box-sizing: border-box;padding-bottom: 0.4em;background-color: white;}#sk-container-id-2 div.sk-label label {font-family: monospace;font-weight: bold;display: inline-block;line-height: 1.2em;}#sk-container-id-2 div.sk-label-container {text-align: center;}#sk-container-id-2 div.sk-container {/* jupyter's `normalize.less` sets `[hidden] { display: none; }` but bootstrap.min.css set `[hidden] { display: none !important; }` so we also need the `!important` here to be able to override the default hidden behavior on the sphinx rendered scikit-learn.org. See: https://github.com/scikit-learn/scikit-learn/issues/21755 */display: inline-block !important;position: relative;}#sk-container-id-2 div.sk-text-repr-fallback {display: none;}</style><div id=\"sk-container-id-2\" class=\"sk-top-container\"><div class=\"sk-text-repr-fallback\"><pre>RandomForestClassifier(max_depth=45, random_state=123)</pre><b>In a Jupyter environment, please rerun this cell to show the HTML representation or trust the notebook. <br />On GitHub, the HTML representation is unable to render, please try loading this page with nbviewer.org.</b></div><div class=\"sk-container\" hidden><div class=\"sk-item\"><div class=\"sk-estimator sk-toggleable\"><input class=\"sk-toggleable__control sk-hidden--visually\" id=\"sk-estimator-id-2\" type=\"checkbox\" checked><label for=\"sk-estimator-id-2\" class=\"sk-toggleable__label sk-toggleable__label-arrow\">RandomForestClassifier</label><div class=\"sk-toggleable__content\"><pre>RandomForestClassifier(max_depth=45, random_state=123)</pre></div></div></div></div></div>"
      ],
      "text/plain": [
       "RandomForestClassifier(max_depth=45, random_state=123)"
      ]
     },
     "execution_count": 13,
     "metadata": {},
     "output_type": "execute_result"
    }
   ],
   "source": [
    "rf = RandomForestClassifier(max_depth=45, criterion='gini', random_state=seed)\n",
    "rf.fit(X_train, y_train)"
   ]
  },
  {
   "cell_type": "code",
   "execution_count": 16,
   "metadata": {},
   "outputs": [
    {
     "name": "stdout",
     "output_type": "stream",
     "text": [
      "Accuracy: 0.8571428571428571\n"
     ]
    }
   ],
   "source": [
    "y_hat = rf.predict(X_test)\n",
    "\n",
    "accuracy = accuracy_score(y_test, y_hat)\n",
    "print(\"Accuracy:\", accuracy)"
   ]
  },
  {
   "cell_type": "code",
   "execution_count": 15,
   "metadata": {},
   "outputs": [
    {
     "ename": "NameError",
     "evalue": "name 'best_rf' is not defined",
     "output_type": "error",
     "traceback": [
      "\u001b[1;31m---------------------------------------------------------------------------\u001b[0m",
      "\u001b[1;31mNameError\u001b[0m                                 Traceback (most recent call last)",
      "\u001b[1;32mc:\\Users\\ptons\\Code\\repositories\\brainwise\\src\\05_train_evaluate.ipynb Cell 9\u001b[0m line \u001b[0;36m3\n\u001b[0;32m      <a href='vscode-notebook-cell:/c%3A/Users/ptons/Code/repositories/brainwise/src/05_train_evaluate.ipynb#X13sZmlsZQ%3D%3D?line=0'>1</a>\u001b[0m \u001b[39m# Exporting data\u001b[39;00m\n\u001b[1;32m----> <a href='vscode-notebook-cell:/c%3A/Users/ptons/Code/repositories/brainwise/src/05_train_evaluate.ipynb#X13sZmlsZQ%3D%3D?line=2'>3</a>\u001b[0m model \u001b[39m=\u001b[39m best_rf \u001b[39m# Add final df\u001b[39;00m\n\u001b[0;32m      <a href='vscode-notebook-cell:/c%3A/Users/ptons/Code/repositories/brainwise/src/05_train_evaluate.ipynb#X13sZmlsZQ%3D%3D?line=3'>4</a>\u001b[0m filename \u001b[39m=\u001b[39m \u001b[39m\"\u001b[39m\u001b[39mv01.pkl\u001b[39m\u001b[39m\"\u001b[39m\n\u001b[0;32m      <a href='vscode-notebook-cell:/c%3A/Users/ptons/Code/repositories/brainwise/src/05_train_evaluate.ipynb#X13sZmlsZQ%3D%3D?line=5'>6</a>\u001b[0m run_save \u001b[39m=\u001b[39m \u001b[39mFalse\u001b[39;00m\n",
      "\u001b[1;31mNameError\u001b[0m: name 'best_rf' is not defined"
     ]
    }
   ],
   "source": [
    "# Exporting model\n",
    "\n",
    "model = rf # Add final df\n",
    "filename = \"v01.pkl\"\n",
    "\n",
    "run_save = False\n",
    "if not run_save:\n",
    "  utils.save_model(model, filename)\n",
    "  run_save = True"
   ]
  },
  {
   "cell_type": "code",
   "execution_count": 19,
   "metadata": {},
   "outputs": [
    {
     "data": {
      "image/png": "[encoded data removed]",
      "text/plain": [
       "<Figure size 800x550 with 1 Axes>"
      ]
     },
     "metadata": {},
     "output_type": "display_data"
    }
   ],
   "source": [
    "explainer = shap.TreeExplainer(rf)\n",
    "# sample = X_test.sample(100)\n",
    "shap_values = explainer.shap_values(X_test)\n",
    "shap.summary_plot(shap_values, X_test, max_display=10)"
   ]
  },
  {
   "cell_type": "code",
   "execution_count": null,
   "metadata": {},
   "outputs": [],
   "source": []
  }
 ],
 "metadata": {
  "kernelspec": {
   "display_name": "base",
   "language": "python",
   "name": "python3"
  },
  "language_info": {
   "codemirror_mode": {
    "name": "ipython",
    "version": 3
   },
   "file_extension": ".py",
   "mimetype": "text/x-python",
   "name": "python",
   "nbconvert_exporter": "python",
   "pygments_lexer": "ipython3",
   "version": "3.11.4"
  },
  "orig_nbformat": 4
 },
 "nbformat": 4,
 "nbformat_minor": 2
}
